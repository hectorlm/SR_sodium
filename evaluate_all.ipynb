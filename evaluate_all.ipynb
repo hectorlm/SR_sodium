{
 "cells": [
  {
   "cell_type": "code",
   "execution_count": 1,
   "metadata": {
    "pycharm": {
     "name": "#%%\n"
    }
   },
   "outputs": [],
   "source": [
    "import numpy as np\n",
    "import matplotlib\n",
    "from matplotlib import pyplot as plt\n",
    "import nibabel as nib\n",
    "import torch\n",
    "import torch.nn as nn\n",
    "from model.unet import UNet\n",
    "from skimage.morphology import remove_small_holes, remove_small_objects\n",
    "from lib.viewer3D import ImageSliceViewer3D\n",
    "%matplotlib inline\n",
    "from skimage.transform import resize"
   ]
  },
  {
   "cell_type": "code",
   "execution_count": 2,
   "metadata": {
    "pycharm": {
     "name": "#%%\n"
    }
   },
   "outputs": [
    {
     "ename": "RuntimeError",
     "evalue": "Error(s) in loading state_dict for UNet:\n\tMissing key(s) in state_dict: \"inc.conv.conv.1.weight\", \"inc.conv.conv.1.bias\", \"inc.conv.conv.1.running_mean\", \"inc.conv.conv.1.running_var\", \"inc.conv.conv.3.weight\", \"inc.conv.conv.3.bias\", \"inc.conv.conv.4.weight\", \"inc.conv.conv.4.bias\", \"inc.conv.conv.4.running_mean\", \"inc.conv.conv.4.running_var\", \"down1.mpconv.1.conv.1.weight\", \"down1.mpconv.1.conv.1.bias\", \"down1.mpconv.1.conv.1.running_mean\", \"down1.mpconv.1.conv.1.running_var\", \"down1.mpconv.1.conv.3.weight\", \"down1.mpconv.1.conv.3.bias\", \"down1.mpconv.1.conv.4.weight\", \"down1.mpconv.1.conv.4.bias\", \"down1.mpconv.1.conv.4.running_mean\", \"down1.mpconv.1.conv.4.running_var\", \"down2.mpconv.1.conv.1.weight\", \"down2.mpconv.1.conv.1.bias\", \"down2.mpconv.1.conv.1.running_mean\", \"down2.mpconv.1.conv.1.running_var\", \"down2.mpconv.1.conv.3.weight\", \"down2.mpconv.1.conv.3.bias\", \"down2.mpconv.1.conv.4.weight\", \"down2.mpconv.1.conv.4.bias\", \"down2.mpconv.1.conv.4.running_mean\", \"down2.mpconv.1.conv.4.running_var\", \"down3.mpconv.1.conv.1.weight\", \"down3.mpconv.1.conv.1.bias\", \"down3.mpconv.1.conv.1.running_mean\", \"down3.mpconv.1.conv.1.running_var\", \"down3.mpconv.1.conv.3.weight\", \"down3.mpconv.1.conv.3.bias\", \"down3.mpconv.1.conv.4.weight\", \"down3.mpconv.1.conv.4.bias\", \"down3.mpconv.1.conv.4.running_mean\", \"down3.mpconv.1.conv.4.running_var\", \"up1.conv.conv.1.weight\", \"up1.conv.conv.1.bias\", \"up1.conv.conv.1.running_mean\", \"up1.conv.conv.1.running_var\", \"up1.conv.conv.3.weight\", \"up1.conv.conv.3.bias\", \"up1.conv.conv.4.weight\", \"up1.conv.conv.4.bias\", \"up1.conv.conv.4.running_mean\", \"up1.conv.conv.4.running_var\", \"up2.conv.conv.1.weight\", \"up2.conv.conv.1.bias\", \"up2.conv.conv.1.running_mean\", \"up2.conv.conv.1.running_var\", \"up2.conv.conv.3.weight\", \"up2.conv.conv.3.bias\", \"up2.conv.conv.4.weight\", \"up2.conv.conv.4.bias\", \"up2.conv.conv.4.running_mean\", \"up2.conv.conv.4.running_var\", \"up3.conv.conv.1.weight\", \"up3.conv.conv.1.bias\", \"up3.conv.conv.1.running_mean\", \"up3.conv.conv.1.running_var\", \"up3.conv.conv.3.weight\", \"up3.conv.conv.3.bias\", \"up3.conv.conv.4.weight\", \"up3.conv.conv.4.bias\", \"up3.conv.conv.4.running_mean\", \"up3.conv.conv.4.running_var\". \n\tUnexpected key(s) in state_dict: \"inc.conv.conv.2.weight\", \"inc.conv.conv.2.bias\", \"down1.mpconv.1.conv.2.weight\", \"down1.mpconv.1.conv.2.bias\", \"down2.mpconv.1.conv.2.weight\", \"down2.mpconv.1.conv.2.bias\", \"down3.mpconv.1.conv.2.weight\", \"down3.mpconv.1.conv.2.bias\", \"up1.conv.conv.2.weight\", \"up1.conv.conv.2.bias\", \"up2.conv.conv.2.weight\", \"up2.conv.conv.2.bias\", \"up3.conv.conv.2.weight\", \"up3.conv.conv.2.bias\". ",
     "output_type": "error",
     "traceback": [
      "\u001B[1;31m---------------------------------------------------------------------------\u001B[0m",
      "\u001B[1;31mRuntimeError\u001B[0m                              Traceback (most recent call last)",
      "Input \u001B[1;32mIn [2]\u001B[0m, in \u001B[0;36m<cell line: 9>\u001B[1;34m()\u001B[0m\n\u001B[0;32m      7\u001B[0m device \u001B[38;5;241m=\u001B[39m (\u001B[38;5;124m\"\u001B[39m\u001B[38;5;124mcuda\u001B[39m\u001B[38;5;124m\"\u001B[39m \u001B[38;5;28;01mif\u001B[39;00m torch\u001B[38;5;241m.\u001B[39mcuda\u001B[38;5;241m.\u001B[39mis_available() \u001B[38;5;28;01melse\u001B[39;00m \u001B[38;5;124m\"\u001B[39m\u001B[38;5;124mcpu\u001B[39m\u001B[38;5;124m\"\u001B[39m)\n\u001B[0;32m      8\u001B[0m net \u001B[38;5;241m=\u001B[39m UNet(n_channels\u001B[38;5;241m=\u001B[39m\u001B[38;5;241m4\u001B[39m)\n\u001B[1;32m----> 9\u001B[0m \u001B[43mnet\u001B[49m\u001B[38;5;241;43m.\u001B[39;49m\u001B[43mload_state_dict\u001B[49m\u001B[43m(\u001B[49m\u001B[43mtorch\u001B[49m\u001B[38;5;241;43m.\u001B[39;49m\u001B[43mload\u001B[49m\u001B[43m(\u001B[49m\u001B[38;5;124;43m'\u001B[39;49m\u001B[38;5;124;43m./checkpoints/ResUNET_SR_L1-lr0.01Ba8.pth\u001B[39;49m\u001B[38;5;124;43m'\u001B[39;49m\u001B[43m)\u001B[49m\u001B[43m)\u001B[49m\n\u001B[0;32m     10\u001B[0m net\u001B[38;5;241m.\u001B[39mto(device)\n\u001B[0;32m     11\u001B[0m net\u001B[38;5;241m.\u001B[39meval()\n",
      "File \u001B[1;32mC:\\ProgramData\\Anaconda3\\envs\\pytorch_mri_variationalnetwork-master\\lib\\site-packages\\torch\\nn\\modules\\module.py:1497\u001B[0m, in \u001B[0;36mModule.load_state_dict\u001B[1;34m(self, state_dict, strict)\u001B[0m\n\u001B[0;32m   1492\u001B[0m         error_msgs\u001B[38;5;241m.\u001B[39minsert(\n\u001B[0;32m   1493\u001B[0m             \u001B[38;5;241m0\u001B[39m, \u001B[38;5;124m'\u001B[39m\u001B[38;5;124mMissing key(s) in state_dict: \u001B[39m\u001B[38;5;132;01m{}\u001B[39;00m\u001B[38;5;124m. \u001B[39m\u001B[38;5;124m'\u001B[39m\u001B[38;5;241m.\u001B[39mformat(\n\u001B[0;32m   1494\u001B[0m                 \u001B[38;5;124m'\u001B[39m\u001B[38;5;124m, \u001B[39m\u001B[38;5;124m'\u001B[39m\u001B[38;5;241m.\u001B[39mjoin(\u001B[38;5;124m'\u001B[39m\u001B[38;5;124m\"\u001B[39m\u001B[38;5;132;01m{}\u001B[39;00m\u001B[38;5;124m\"\u001B[39m\u001B[38;5;124m'\u001B[39m\u001B[38;5;241m.\u001B[39mformat(k) \u001B[38;5;28;01mfor\u001B[39;00m k \u001B[38;5;129;01min\u001B[39;00m missing_keys)))\n\u001B[0;32m   1496\u001B[0m \u001B[38;5;28;01mif\u001B[39;00m \u001B[38;5;28mlen\u001B[39m(error_msgs) \u001B[38;5;241m>\u001B[39m \u001B[38;5;241m0\u001B[39m:\n\u001B[1;32m-> 1497\u001B[0m     \u001B[38;5;28;01mraise\u001B[39;00m \u001B[38;5;167;01mRuntimeError\u001B[39;00m(\u001B[38;5;124m'\u001B[39m\u001B[38;5;124mError(s) in loading state_dict for \u001B[39m\u001B[38;5;132;01m{}\u001B[39;00m\u001B[38;5;124m:\u001B[39m\u001B[38;5;130;01m\\n\u001B[39;00m\u001B[38;5;130;01m\\t\u001B[39;00m\u001B[38;5;132;01m{}\u001B[39;00m\u001B[38;5;124m'\u001B[39m\u001B[38;5;241m.\u001B[39mformat(\n\u001B[0;32m   1498\u001B[0m                        \u001B[38;5;28mself\u001B[39m\u001B[38;5;241m.\u001B[39m\u001B[38;5;18m__class__\u001B[39m\u001B[38;5;241m.\u001B[39m\u001B[38;5;18m__name__\u001B[39m, \u001B[38;5;124m\"\u001B[39m\u001B[38;5;130;01m\\n\u001B[39;00m\u001B[38;5;130;01m\\t\u001B[39;00m\u001B[38;5;124m\"\u001B[39m\u001B[38;5;241m.\u001B[39mjoin(error_msgs)))\n\u001B[0;32m   1499\u001B[0m \u001B[38;5;28;01mreturn\u001B[39;00m _IncompatibleKeys(missing_keys, unexpected_keys)\n",
      "\u001B[1;31mRuntimeError\u001B[0m: Error(s) in loading state_dict for UNet:\n\tMissing key(s) in state_dict: \"inc.conv.conv.1.weight\", \"inc.conv.conv.1.bias\", \"inc.conv.conv.1.running_mean\", \"inc.conv.conv.1.running_var\", \"inc.conv.conv.3.weight\", \"inc.conv.conv.3.bias\", \"inc.conv.conv.4.weight\", \"inc.conv.conv.4.bias\", \"inc.conv.conv.4.running_mean\", \"inc.conv.conv.4.running_var\", \"down1.mpconv.1.conv.1.weight\", \"down1.mpconv.1.conv.1.bias\", \"down1.mpconv.1.conv.1.running_mean\", \"down1.mpconv.1.conv.1.running_var\", \"down1.mpconv.1.conv.3.weight\", \"down1.mpconv.1.conv.3.bias\", \"down1.mpconv.1.conv.4.weight\", \"down1.mpconv.1.conv.4.bias\", \"down1.mpconv.1.conv.4.running_mean\", \"down1.mpconv.1.conv.4.running_var\", \"down2.mpconv.1.conv.1.weight\", \"down2.mpconv.1.conv.1.bias\", \"down2.mpconv.1.conv.1.running_mean\", \"down2.mpconv.1.conv.1.running_var\", \"down2.mpconv.1.conv.3.weight\", \"down2.mpconv.1.conv.3.bias\", \"down2.mpconv.1.conv.4.weight\", \"down2.mpconv.1.conv.4.bias\", \"down2.mpconv.1.conv.4.running_mean\", \"down2.mpconv.1.conv.4.running_var\", \"down3.mpconv.1.conv.1.weight\", \"down3.mpconv.1.conv.1.bias\", \"down3.mpconv.1.conv.1.running_mean\", \"down3.mpconv.1.conv.1.running_var\", \"down3.mpconv.1.conv.3.weight\", \"down3.mpconv.1.conv.3.bias\", \"down3.mpconv.1.conv.4.weight\", \"down3.mpconv.1.conv.4.bias\", \"down3.mpconv.1.conv.4.running_mean\", \"down3.mpconv.1.conv.4.running_var\", \"up1.conv.conv.1.weight\", \"up1.conv.conv.1.bias\", \"up1.conv.conv.1.running_mean\", \"up1.conv.conv.1.running_var\", \"up1.conv.conv.3.weight\", \"up1.conv.conv.3.bias\", \"up1.conv.conv.4.weight\", \"up1.conv.conv.4.bias\", \"up1.conv.conv.4.running_mean\", \"up1.conv.conv.4.running_var\", \"up2.conv.conv.1.weight\", \"up2.conv.conv.1.bias\", \"up2.conv.conv.1.running_mean\", \"up2.conv.conv.1.running_var\", \"up2.conv.conv.3.weight\", \"up2.conv.conv.3.bias\", \"up2.conv.conv.4.weight\", \"up2.conv.conv.4.bias\", \"up2.conv.conv.4.running_mean\", \"up2.conv.conv.4.running_var\", \"up3.conv.conv.1.weight\", \"up3.conv.conv.1.bias\", \"up3.conv.conv.1.running_mean\", \"up3.conv.conv.1.running_var\", \"up3.conv.conv.3.weight\", \"up3.conv.conv.3.bias\", \"up3.conv.conv.4.weight\", \"up3.conv.conv.4.bias\", \"up3.conv.conv.4.running_mean\", \"up3.conv.conv.4.running_var\". \n\tUnexpected key(s) in state_dict: \"inc.conv.conv.2.weight\", \"inc.conv.conv.2.bias\", \"down1.mpconv.1.conv.2.weight\", \"down1.mpconv.1.conv.2.bias\", \"down2.mpconv.1.conv.2.weight\", \"down2.mpconv.1.conv.2.bias\", \"down3.mpconv.1.conv.2.weight\", \"down3.mpconv.1.conv.2.bias\", \"up1.conv.conv.2.weight\", \"up1.conv.conv.2.bias\", \"up2.conv.conv.2.weight\", \"up2.conv.conv.2.bias\", \"up3.conv.conv.2.weight\", \"up3.conv.conv.2.bias\". "
     ]
    }
   ],
   "source": [
    "morph = lambda x, axis: remove_small_holes(remove_small_objects(x))\n",
    "# Loop through the .nii files in data\n",
    "datadir = \"./data/\"\n",
    "\n",
    "files = [\"rNa_lr.nii\", \"PD.nii\", \"T1.nii\", \"T2.nii\", \"rNa_hr.nii\"]\n",
    "\n",
    "device = (\"cuda\" if torch.cuda.is_available() else \"cpu\")\n",
    "net = UNet(n_channels=4)\n",
    "net.load_state_dict(torch.load('./checkpoints/ResUNET_SR_L1-lr0.01Ba8.pth'))\n",
    "net.to(device)\n",
    "net.eval()\n",
    "\n",
    "i = 7 # 1,2,3,4\n",
    "\n",
    "print(f'Loading masks for file: {i}')\n",
    "mask = nib.load(f'./data/Masks/Data{i}/c1PD.nii').get_fdata()\n",
    "mask += nib.load(f'./data/Masks/Data{i}/c2PD.nii').get_fdata()\n",
    "mask += nib.load(f'./data/Masks/Data{i}/c3PD.nii').get_fdata()\n",
    "mask = mask > 0.0\n",
    "mask = np.apply_over_axes(morph, mask, [1, 2])\n",
    "print(f'Working on file: {i}')\n",
    "img = nib.load(f'{datadir}{i}{files[0]}').get_fdata()\n",
    "img[np.isnan(img)] = 0.0\n",
    "# img = img*mask\n",
    "img /= img.max()\n",
    "mmag = np.mean(img, (1, 2))\n",
    "idx = mmag > (np.max(mmag) * 0.4)\n",
    "\n",
    "bimg = np.zeros((np.sum(idx), 4, 160, 160))\n",
    "bimg[:,0] = img[idx]\n",
    "for jj in range(1, 4):\n",
    "    img = nib.load(f'{datadir}{i}{files[jj]}').get_fdata()\n",
    "    img[np.isnan(img)] = 0.0\n",
    "    # img = img * mask\n",
    "    img /= img.max()\n",
    "    bimg[:,jj] = img[idx]\n",
    "\n",
    "# imglr = resize(img[idx], [sum(idx), 80, 80], anti_aliasing=True)\n",
    "\n",
    "img2 = nib.load(f'{datadir}{i}{files[-1]}').get_fdata()\n",
    "img2[np.isnan(img2)] = 0.0\n",
    "# img2 = img2*mask\n",
    "img2 /= img2.max()\n",
    "imghr = img2[idx, :, :]\n",
    "\n",
    "timglr = torch.as_tensor(bimg.astype(np.float32)).to(device)\n",
    "imgsr = net(timglr).cpu().detach().numpy().squeeze()*mask[idx]"
   ]
  },
  {
   "cell_type": "code",
   "execution_count": null,
   "metadata": {
    "pycharm": {
     "name": "#%%\n"
    }
   },
   "outputs": [],
   "source": [
    "ImageSliceViewer3D(imghr, imgsr, figsize=(12,12))"
   ]
  },
  {
   "cell_type": "code",
   "execution_count": null,
   "metadata": {
    "pycharm": {
     "name": "#%%\n"
    }
   },
   "outputs": [],
   "source": [
    "np.mean(np.abs(imgsr-imghr))"
   ]
  },
  {
   "cell_type": "code",
   "execution_count": null,
   "metadata": {
    "pycharm": {
     "name": "#%%\n"
    }
   },
   "outputs": [],
   "source": [
    "from piqa import SSIM\n",
    "ssim = SSIM(n_channels=1)\n",
    "x = torch.as_tensor(np.expand_dims(imgsr.astype(np.float32),1))\n",
    "y = torch.as_tensor(np.expand_dims(imghr.astype(np.float32),1))\n",
    "N = x.shape[0]\n",
    "ssim(x[N//2-2:N//2+2], y[N//2-2:N//2+2])"
   ]
  },
  {
   "cell_type": "code",
   "execution_count": null,
   "metadata": {
    "pycharm": {
     "name": "#%%\n"
    }
   },
   "outputs": [],
   "source": [
    "from skimage.transform import rescale, resize\n",
    "imgscaled = resize(img, (y.shape[0],160,160), anti_aliasing=False).astype(np.float32)\n",
    "z = torch.as_tensor(np.expand_dims(imgscaled,1))\n",
    "z.shape\n",
    "ssim(z[N//2-2:N//2+2], y[N//2-2:N//2+2])"
   ]
  },
  {
   "cell_type": "code",
   "execution_count": null,
   "metadata": {
    "pycharm": {
     "name": "#%%\n"
    }
   },
   "outputs": [],
   "source": [
    "\n",
    "ImageSliceViewer3D(img, imghr, imgscaled, figsize=(12,12))"
   ]
  },
  {
   "cell_type": "code",
   "execution_count": null,
   "metadata": {
    "pycharm": {
     "name": "#%%\n"
    }
   },
   "outputs": [],
   "source": []
  }
 ],
 "metadata": {
  "kernelspec": {
   "display_name": "Python 3 (ipykernel)",
   "language": "python",
   "name": "python3"
  },
  "language_info": {
   "codemirror_mode": {
    "name": "ipython",
    "version": 3
   },
   "file_extension": ".py",
   "mimetype": "text/x-python",
   "name": "python",
   "nbconvert_exporter": "python",
   "pygments_lexer": "ipython3",
   "version": "3.9.12"
  }
 },
 "nbformat": 4,
 "nbformat_minor": 1
}